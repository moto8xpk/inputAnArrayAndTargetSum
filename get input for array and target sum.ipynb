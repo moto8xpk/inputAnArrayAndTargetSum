{
 "cells": [
  {
   "cell_type": "code",
   "execution_count": 1,
   "metadata": {},
   "outputs": [],
   "source": [
    "# get input for array and target sum"
   ]
  },
  {
   "cell_type": "code",
   "execution_count": 36,
   "metadata": {},
   "outputs": [],
   "source": [
    "list =[1,3,5,7,9,5]\n",
    "copiedList=list\n",
    "copiedList2=copiedList\n",
    "sum=10"
   ]
  },
  {
   "cell_type": "code",
   "execution_count": 37,
   "metadata": {},
   "outputs": [
    {
     "name": "stdout",
     "output_type": "stream",
     "text": [
      "[[{0: 1}, {4: 9}], [{1: 3}, {3: 7}], [{2: 5}, {2: 5}], [{2: 5}, {5: 5}], [{3: 7}, {1: 3}], [{4: 9}, {0: 1}], [{5: 5}, {2: 5}], [{5: 5}, {5: 5}]]\n"
     ]
    }
   ],
   "source": [
    "tempIndex=0\n",
    "tempArray=[]\n",
    "for i,item in enumerate(copiedList):\n",
    "    for i2,item2 in enumerate(copiedList2):\n",
    "        if(item+ item2 == sum):\n",
    "            tempArray.append([{i: item},{i2: item2}])\n",
    "print(tempArray)"
   ]
  },
  {
   "cell_type": "code",
   "execution_count": 4,
   "metadata": {},
   "outputs": [
    {
     "name": "stdout",
     "output_type": "stream",
     "text": [
      "0 1\n",
      "1 3\n",
      "2 5\n",
      "3 7\n",
      "4 9\n",
      "5 5\n"
     ]
    }
   ],
   "source": [
    "for i,item in enumerate(list):\n",
    "    print(i,item)"
   ]
  },
  {
   "cell_type": "code",
   "execution_count": null,
   "metadata": {},
   "outputs": [],
   "source": []
  }
 ],
 "metadata": {
  "kernelspec": {
   "display_name": "Python 3",
   "language": "python",
   "name": "python3"
  },
  "language_info": {
   "codemirror_mode": {
    "name": "ipython",
    "version": 3
   },
   "file_extension": ".py",
   "mimetype": "text/x-python",
   "name": "python",
   "nbconvert_exporter": "python",
   "pygments_lexer": "ipython3",
   "version": "3.6.7"
  }
 },
 "nbformat": 4,
 "nbformat_minor": 2
}
